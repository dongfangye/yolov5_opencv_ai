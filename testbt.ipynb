{
 "cells": [
  {
   "cell_type": "markdown",
   "metadata": {},
   "source": [
    "# 加载本地训练好的YOLOv5模型"
   ]
  },
  {
   "cell_type": "code",
   "execution_count": 2,
   "metadata": {},
   "outputs": [
    {
     "name": "stderr",
     "output_type": "stream",
     "text": [
      "YOLOv5  1b0f9c8 torch 2.0.0+cu118 CUDA:0 (NVIDIA GeForce RTX 4060, 8187.5MB)\n",
      "\n",
      "Fusing layers... \n",
      "d:\\Software\\Anacode\\envs\\yolov5_6\\lib\\site-packages\\torch\\functional.py:504: UserWarning: torch.meshgrid: in an upcoming release, it will be required to pass the indexing argument. (Triggered internally at C:\\actions-runner\\_work\\pytorch\\pytorch\\builder\\windows\\pytorch\\aten\\src\\ATen\\native\\TensorShape.cpp:3484.)\n",
      "  return _VF.meshgrid(tensors, **kwargs)  # type: ignore[attr-defined]\n",
      "Model Summary: 213 layers, 7225885 parameters, 0 gradients\n",
      "Adding AutoShape... \n",
      "YOLOv5  1b0f9c8 torch 2.0.0+cu118 CUDA:0 (NVIDIA GeForce RTX 4060, 8187.5MB)\n",
      "\n",
      "Fusing layers... \n",
      "Model Summary: 213 layers, 7026307 parameters, 0 gradients, 15.8 GFLOPs\n",
      "Adding AutoShape... \n"
     ]
    }
   ],
   "source": [
    "import cv2\n",
    "import torch\n",
    "import numpy as np\n",
    "model_path = 'weights/yolov5s.pt'  # 替换为你的本地模型路径\n",
    "model = torch.hub.load('yolov5-6.0', 'custom', path=model_path, source='local')\n",
    "\n",
    "model_finger_path = \"best.pt\"\n",
    "model_finger = torch.hub.load(\"yolov5-6.0\", \"custom\", path=model_finger_path, source=\"local\")\n"
   ]
  },
  {
   "cell_type": "code",
   "execution_count": 4,
   "metadata": {},
   "outputs": [
    {
     "name": "stderr",
     "output_type": "stream",
     "text": [
      "image 1/1: 800x800 (no detections)\n",
      "Speed: 5.4ms pre-process, 139.0ms inference, 1.0ms NMS per image at shape (1, 3, 640, 640)\n"
     ]
    }
   ],
   "source": [
    "img = cv2.imread('data/app2.jpg')\n",
    "result = model_finger(img)\n",
    "# 打印检测结果\n",
    "result.print()\n",
    "\n",
    "# 显示检测结果\n",
    "result.show()"
   ]
  }
 ],
 "metadata": {
  "kernelspec": {
   "display_name": "yolov5_6",
   "language": "python",
   "name": "python3"
  },
  "language_info": {
   "codemirror_mode": {
    "name": "ipython",
    "version": 3
   },
   "file_extension": ".py",
   "mimetype": "text/x-python",
   "name": "python",
   "nbconvert_exporter": "python",
   "pygments_lexer": "ipython3",
   "version": "3.8.19"
  }
 },
 "nbformat": 4,
 "nbformat_minor": 2
}
