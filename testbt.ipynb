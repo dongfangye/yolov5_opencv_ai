{
 "cells": [
  {
   "cell_type": "markdown",
   "metadata": {},
   "source": [
    "# 加载本地训练好的YOLOv5模型"
   ]
  },
  {
   "cell_type": "code",
   "execution_count": null,
   "metadata": {},
   "outputs": [],
   "source": [
    "import cv2\n",
    "import torch\n",
    "import numpy as np\n",
    "model_path = 'weights/yolov5s.pt'  # 替换为你的本地模型路径\n",
    "model = torch.hub.load('yolov5-6.0', 'custom', path=model_path, source='local')\n",
    "\n",
    "model_finger_path = \"best.pt\"\n",
    "model_finger = torch.hub.load(\"yolov5-6.0\", \"custom\", path=model_finger_path, source=\"local\")\n"
   ]
  },
  {
   "cell_type": "code",
   "execution_count": null,
   "metadata": {},
   "outputs": [],
   "source": [
    "img = cv2.imread('data/app2.jpg')\n",
    "result = model_finger(img)\n",
    "# 打印检测结果\n",
    "result.print()\n",
    "\n",
    "# 显示检测结果\n",
    "result.show()"
   ]
  },
  {
   "cell_type": "code",
   "execution_count": 6,
   "metadata": {},
   "outputs": [],
   "source": [
    "import pytesseract"
   ]
  },
  {
   "cell_type": "code",
   "execution_count": null,
   "metadata": {},
   "outputs": [],
   "source": [
    "image = cv2.imread('data/app2.jpg')"
   ]
  }
 ],
 "metadata": {
  "kernelspec": {
   "display_name": "yolov5_6",
   "language": "python",
   "name": "python3"
  },
  "language_info": {
   "codemirror_mode": {
    "name": "ipython",
    "version": 3
   },
   "file_extension": ".py",
   "mimetype": "text/x-python",
   "name": "python",
   "nbconvert_exporter": "python",
   "pygments_lexer": "ipython3",
   "version": "3.8.19"
  }
 },
 "nbformat": 4,
 "nbformat_minor": 2
}
