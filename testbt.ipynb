{
 "cells": [
  {
   "cell_type": "markdown",
   "metadata": {},
   "source": [
    "# 加载本地训练好的YOLOv5模型"
   ]
  },
  {
   "cell_type": "code",
   "execution_count": 11,
   "metadata": {},
   "outputs": [
    {
     "name": "stderr",
     "output_type": "stream",
     "text": [
      "YOLOv5  0ca4b73 torch 2.0.0+cu118 CUDA:0 (NVIDIA GeForce RTX 4060, 8187.5MB)\n",
      "\n",
      "Fusing layers... \n",
      "Model Summary: 213 layers, 7225885 parameters, 0 gradients\n",
      "Adding AutoShape... \n",
      "YOLOv5  0ca4b73 torch 2.0.0+cu118 CUDA:0 (NVIDIA GeForce RTX 4060, 8187.5MB)\n",
      "\n",
      "Fusing layers... \n",
      "Model Summary: 213 layers, 7026307 parameters, 0 gradients, 15.8 GFLOPs\n",
      "Adding AutoShape... \n"
     ]
    }
   ],
   "source": [
    "import cv2\n",
    "import torch\n",
    "import numpy as np\n",
    "model_path = 'weights/yolov5s.pt'  # 替换为你的本地模型路径\n",
    "model = torch.hub.load('yolov5-6.0', 'custom', path=model_path, source='local')\n",
    "\n",
    "model_finger_path = \"weights/finger.pt\"\n",
    "model_finger = torch.hub.load(\"yolov5-6.0\", \"custom\", path=model_finger_path, source=\"local\")\n"
   ]
  },
  {
   "cell_type": "code",
   "execution_count": 12,
   "metadata": {},
   "outputs": [
    {
     "name": "stderr",
     "output_type": "stream",
     "text": [
      "image 1/1: 800x800 (no detections)\n",
      "Speed: 2.0ms pre-process, 15.0ms inference, 1.0ms NMS per image at shape (1, 3, 640, 640)\n"
     ]
    }
   ],
   "source": [
    "img = cv2.imread('data/app2.jpg')\n",
    "result = model_finger(img)\n",
    "# 打印检测结果\n",
    "result.print()\n",
    "\n",
    "# 显示检测结果\n",
    "result.show()"
   ]
  }
 ],
 "metadata": {
  "kernelspec": {
   "display_name": "yolov5_6",
   "language": "python",
   "name": "python3"
  },
  "language_info": {
   "codemirror_mode": {
    "name": "ipython",
    "version": 3
   },
   "file_extension": ".py",
   "mimetype": "text/x-python",
   "name": "python",
   "nbconvert_exporter": "python",
   "pygments_lexer": "ipython3",
   "version": "3.8.19"
  }
 },
 "nbformat": 4,
 "nbformat_minor": 2
}
