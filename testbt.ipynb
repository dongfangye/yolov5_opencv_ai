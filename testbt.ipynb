{
 "cells": [
  {
   "cell_type": "markdown",
   "metadata": {},
   "source": [
    "# 加载本地训练好的YOLOv5模型"
   ]
  },
  {
   "cell_type": "code",
   "execution_count": null,
   "metadata": {},
   "outputs": [],
   "source": [
    "import cv2\n",
    "import torch\n",
    "import numpy as np\n",
    "model_path = 'weights/yolov5s.pt'  # 替换为你的本地模型路径\n",
    "model = torch.hub.load('yolov5-6.0', 'custom', path=model_path, source='local')\n"
   ]
  },
  {
   "cell_type": "code",
   "execution_count": 3,
   "metadata": {},
   "outputs": [],
   "source": [
    "import requests\n",
    "from pydub import AudioSegment\n",
    "from pydub.playback import play\n",
    "import pyaudio"
   ]
  },
  {
   "cell_type": "code",
   "execution_count": null,
   "metadata": {},
   "outputs": [],
   "source": [
    "# 文字转语音\n",
    "def txt_to_audio(text):\n",
    "    res = requests.post('http://127.0.0.1:9966/tts', data={\n",
    "    \"text\": text,\n",
    "    \"prompt\": \"\",\n",
    "    \"voice\": 11,\n",
    "    \"speed\": 5,\n",
    "    \"temperature\": 0.3,\n",
    "    \"top_p\": 0.7,\n",
    "    \"top_k\": 20,\n",
    "    \"refine_max_new_token\": 384,\n",
    "    \"infer_max_new_token\": 2048,\n",
    "    \"text_seed\": 42,\n",
    "    \"skip_refine\": 0,\n",
    "    \"custom_voice\": 0\n",
    "    })\n",
    "    data = res.json()\n",
    "    url = data[\"audio_files\"][0][\"url\"]\n",
    "    res = requests.get(url)\n",
    "    with open('audio/audio.wav', 'wb') as f:\n",
    "        f.write(res.content)\n",
    "    # 加载音频文件\n",
    "    audio = AudioSegment.from_wav(\"audio.wav\")\n",
    "\n",
    "    # 使用pyaudio播放音频并等待播放完毕\n",
    "    p = pyaudio.PyAudio()\n",
    "    stream = p.open(format=p.get_format_from_width(audio.sample_width),\n",
    "                    channels=audio.channels,\n",
    "                    rate=audio.frame_rate,\n",
    "                    output=True)\n",
    "\n",
    "    # 播放音频数据\n",
    "    stream.write(audio.raw_data)\n",
    "\n",
    "    # 等待播放完毕\n",
    "    stream.stop_stream()\n",
    "    stream.close()\n",
    "    p.terminate()\n",
    "    print(\"播放完毕\")"
   ]
  }
 ],
 "metadata": {
  "kernelspec": {
   "display_name": "yolov5_6",
   "language": "python",
   "name": "python3"
  },
  "language_info": {
   "codemirror_mode": {
    "name": "ipython",
    "version": 3
   },
   "file_extension": ".py",
   "mimetype": "text/x-python",
   "name": "python",
   "nbconvert_exporter": "python",
   "pygments_lexer": "ipython3",
   "version": "3.8.19"
  }
 },
 "nbformat": 4,
 "nbformat_minor": 2
}
